{
 "cells": [
  {
   "cell_type": "markdown",
   "id": "5b34918a-91e0-40bb-81ba-37fa521d08ec",
   "metadata": {},
   "source": [
    "# III. Preprocessing and Modeling"
   ]
  },
  {
   "cell_type": "markdown",
   "id": "d1f9ac0a-5db2-40e9-92bb-7fe5c6840c26",
   "metadata": {},
   "source": [
    "###### Before I start modeling I need to make sure I have my data imported"
   ]
  },
  {
   "cell_type": "code",
   "execution_count": 9,
   "id": "69d752a4-c435-446e-96d0-d6279303dee9",
   "metadata": {
    "tags": []
   },
   "outputs": [],
   "source": [
    "import matplotlib.pyplot as plt\n",
    "import pandas as pd\n",
    "import numpy as np\n",
    "import scipy.stats as stats\n",
    "import seaborn as sns\n",
    "import time\n",
    "from nltk.tokenize import sent_tokenize, word_tokenize, RegexpTokenizer\n",
    "from nltk.corpus import stopwords\n",
    "\n",
    "# SKlearn imports:\n",
    "from sklearn.naive_bayes import MultinomialNB\n",
    "from sklearn.feature_extraction.text import CountVectorizer, TfidfVectorizer\n",
    "from sklearn.model_selection import train_test_split, GridSearchCV, cross_val_score\n",
    "from sklearn.linear_model import LogisticRegression\n",
    "from sklearn.metrics import mean_squared_error, mean_absolute_error, RocCurveDisplay\n",
    "from sklearn.metrics import r2_score, f1_score, balanced_accuracy_score\n",
    "from sklearn.metrics import recall_score, precision_score, recall_score, accuracy_score \n",
    "from sklearn.metrics import ConfusionMatrixDisplay, roc_auc_score, precision_score, confusion_matrix\n",
    "from sklearn.ensemble import BaggingClassifier, RandomForestClassifier\n",
    "from sklearn.pipeline import make_pipeline\n",
    "from sklearn.preprocessing import StandardScaler, OneHotEncoder, PolynomialFeatures\n",
    "from sklearn import set_config\n",
    "set_config(display = 'diagram')\n",
    "import warnings\n",
    "warnings.filterwarnings('ignore')\n",
    "#Katie helped with the code for this since the original wasn't working\n",
    "from sklearn.metrics import ConfusionMatrixDisplay\n",
    "from sklearn.metrics import plot_confusion_matrix"
   ]
  },
  {
   "cell_type": "code",
   "execution_count": 10,
   "id": "96a841fb-dd4f-4bba-b1a4-f8feeb9cc589",
   "metadata": {},
   "outputs": [],
   "source": [
    "subreddits=pd.read_csv('./data/final_df')"
   ]
  },
  {
   "cell_type": "code",
   "execution_count": 11,
   "id": "05237eb8-1b1e-40e0-bbc0-9537bfb3a0cd",
   "metadata": {},
   "outputs": [
    {
     "data": {
      "text/plain": [
       "Index(['Unnamed: 0', 'subreddit', 'title', 'is_mgs', 'clean_title',\n",
       "       'title_length', 'title_word_count'],\n",
       "      dtype='object')"
      ]
     },
     "execution_count": 11,
     "metadata": {},
     "output_type": "execute_result"
    }
   ],
   "source": [
    "subreddits.columns"
   ]
  },
  {
   "cell_type": "code",
   "execution_count": 12,
   "id": "6910ada0-d36b-4b9f-adf5-83b4078c8874",
   "metadata": {},
   "outputs": [],
   "source": [
    "X,y=subreddits['clean_title'],subreddits['is_mgs']"
   ]
  },
  {
   "cell_type": "markdown",
   "id": "7d794efa-219f-4bd7-9abf-80c66a301ac4",
   "metadata": {},
   "source": [
    "###### Baseline is close to 50%"
   ]
  },
  {
   "cell_type": "code",
   "execution_count": 13,
   "id": "62b16403-7b9e-4fd6-81ea-33c438d983f4",
   "metadata": {},
   "outputs": [
    {
     "data": {
      "text/plain": [
       "1    0.502518\n",
       "0    0.497482\n",
       "Name: is_mgs, dtype: float64"
      ]
     },
     "execution_count": 13,
     "metadata": {},
     "output_type": "execute_result"
    }
   ],
   "source": [
    "y.value_counts(normalize = True)"
   ]
  },
  {
   "cell_type": "markdown",
   "id": "f109f687-914d-4b39-bcb6-e7ff5e87060c",
   "metadata": {},
   "source": [
    "###### I need to train test split for model creation"
   ]
  },
  {
   "cell_type": "code",
   "execution_count": 14,
   "id": "11eb423c-bccc-4bb6-bb6b-7d4ea308d730",
   "metadata": {},
   "outputs": [],
   "source": [
    "X_train,X_test,y_train,y_test=train_test_split(X,y,random_state=42,stratify=y)"
   ]
  },
  {
   "cell_type": "markdown",
   "id": "22c34f4e-29f0-4717-8b44-60d3ea9b06d6",
   "metadata": {},
   "source": [
    "###### Model 1 is a Naive-Bayes model with count vectorizer. This version has no paramaters modified"
   ]
  },
  {
   "cell_type": "code",
   "execution_count": 15,
   "id": "4c8ee958-95c6-401b-9747-3f5f6643afd7",
   "metadata": {},
   "outputs": [
    {
     "data": {
      "text/html": [
       "<style>#sk-f1c85bfe-e4c1-4233-8ece-9c32f977224d {color: black;background-color: white;}#sk-f1c85bfe-e4c1-4233-8ece-9c32f977224d pre{padding: 0;}#sk-f1c85bfe-e4c1-4233-8ece-9c32f977224d div.sk-toggleable {background-color: white;}#sk-f1c85bfe-e4c1-4233-8ece-9c32f977224d label.sk-toggleable__label {cursor: pointer;display: block;width: 100%;margin-bottom: 0;padding: 0.3em;box-sizing: border-box;text-align: center;}#sk-f1c85bfe-e4c1-4233-8ece-9c32f977224d div.sk-toggleable__content {max-height: 0;max-width: 0;overflow: hidden;text-align: left;background-color: #f0f8ff;}#sk-f1c85bfe-e4c1-4233-8ece-9c32f977224d div.sk-toggleable__content pre {margin: 0.2em;color: black;border-radius: 0.25em;background-color: #f0f8ff;}#sk-f1c85bfe-e4c1-4233-8ece-9c32f977224d input.sk-toggleable__control:checked~div.sk-toggleable__content {max-height: 200px;max-width: 100%;overflow: auto;}#sk-f1c85bfe-e4c1-4233-8ece-9c32f977224d div.sk-estimator input.sk-toggleable__control:checked~label.sk-toggleable__label {background-color: #d4ebff;}#sk-f1c85bfe-e4c1-4233-8ece-9c32f977224d div.sk-label input.sk-toggleable__control:checked~label.sk-toggleable__label {background-color: #d4ebff;}#sk-f1c85bfe-e4c1-4233-8ece-9c32f977224d input.sk-hidden--visually {border: 0;clip: rect(1px 1px 1px 1px);clip: rect(1px, 1px, 1px, 1px);height: 1px;margin: -1px;overflow: hidden;padding: 0;position: absolute;width: 1px;}#sk-f1c85bfe-e4c1-4233-8ece-9c32f977224d div.sk-estimator {font-family: monospace;background-color: #f0f8ff;border: 1px dotted black;border-radius: 0.25em;box-sizing: border-box;margin-bottom: 0.5em;}#sk-f1c85bfe-e4c1-4233-8ece-9c32f977224d div.sk-estimator:hover {background-color: #d4ebff;}#sk-f1c85bfe-e4c1-4233-8ece-9c32f977224d div.sk-parallel-item::after {content: \"\";width: 100%;border-bottom: 1px solid gray;flex-grow: 1;}#sk-f1c85bfe-e4c1-4233-8ece-9c32f977224d div.sk-label:hover label.sk-toggleable__label {background-color: #d4ebff;}#sk-f1c85bfe-e4c1-4233-8ece-9c32f977224d div.sk-serial::before {content: \"\";position: absolute;border-left: 1px solid gray;box-sizing: border-box;top: 2em;bottom: 0;left: 50%;}#sk-f1c85bfe-e4c1-4233-8ece-9c32f977224d div.sk-serial {display: flex;flex-direction: column;align-items: center;background-color: white;padding-right: 0.2em;padding-left: 0.2em;}#sk-f1c85bfe-e4c1-4233-8ece-9c32f977224d div.sk-item {z-index: 1;}#sk-f1c85bfe-e4c1-4233-8ece-9c32f977224d div.sk-parallel {display: flex;align-items: stretch;justify-content: center;background-color: white;}#sk-f1c85bfe-e4c1-4233-8ece-9c32f977224d div.sk-parallel::before {content: \"\";position: absolute;border-left: 1px solid gray;box-sizing: border-box;top: 2em;bottom: 0;left: 50%;}#sk-f1c85bfe-e4c1-4233-8ece-9c32f977224d div.sk-parallel-item {display: flex;flex-direction: column;position: relative;background-color: white;}#sk-f1c85bfe-e4c1-4233-8ece-9c32f977224d div.sk-parallel-item:first-child::after {align-self: flex-end;width: 50%;}#sk-f1c85bfe-e4c1-4233-8ece-9c32f977224d div.sk-parallel-item:last-child::after {align-self: flex-start;width: 50%;}#sk-f1c85bfe-e4c1-4233-8ece-9c32f977224d div.sk-parallel-item:only-child::after {width: 0;}#sk-f1c85bfe-e4c1-4233-8ece-9c32f977224d div.sk-dashed-wrapped {border: 1px dashed gray;margin: 0 0.4em 0.5em 0.4em;box-sizing: border-box;padding-bottom: 0.4em;background-color: white;position: relative;}#sk-f1c85bfe-e4c1-4233-8ece-9c32f977224d div.sk-label label {font-family: monospace;font-weight: bold;background-color: white;display: inline-block;line-height: 1.2em;}#sk-f1c85bfe-e4c1-4233-8ece-9c32f977224d div.sk-label-container {position: relative;z-index: 2;text-align: center;}#sk-f1c85bfe-e4c1-4233-8ece-9c32f977224d div.sk-container {display: inline-block;position: relative;}</style><div id=\"sk-f1c85bfe-e4c1-4233-8ece-9c32f977224d\" class\"sk-top-container\"><div class=\"sk-container\"><div class=\"sk-item sk-dashed-wrapped\"><div class=\"sk-label-container\"><div class=\"sk-label sk-toggleable\"><input class=\"sk-toggleable__control sk-hidden--visually\" id=\"eaa99da7-e060-4d17-832c-0ebed6a592e7\" type=\"checkbox\" ><label class=\"sk-toggleable__label\" for=\"eaa99da7-e060-4d17-832c-0ebed6a592e7\">Pipeline</label><div class=\"sk-toggleable__content\"><pre>Pipeline(steps=[('countvectorizer', CountVectorizer()),\n",
       "                ('multinomialnb', MultinomialNB())])</pre></div></div></div><div class=\"sk-serial\"><div class=\"sk-item\"><div class=\"sk-estimator sk-toggleable\"><input class=\"sk-toggleable__control sk-hidden--visually\" id=\"9ca2572a-18ca-45a5-a9d0-e544df9e86f3\" type=\"checkbox\" ><label class=\"sk-toggleable__label\" for=\"9ca2572a-18ca-45a5-a9d0-e544df9e86f3\">CountVectorizer</label><div class=\"sk-toggleable__content\"><pre>CountVectorizer()</pre></div></div></div><div class=\"sk-item\"><div class=\"sk-estimator sk-toggleable\"><input class=\"sk-toggleable__control sk-hidden--visually\" id=\"9a387917-de99-432c-b971-7597498badad\" type=\"checkbox\" ><label class=\"sk-toggleable__label\" for=\"9a387917-de99-432c-b971-7597498badad\">MultinomialNB</label><div class=\"sk-toggleable__content\"><pre>MultinomialNB()</pre></div></div></div></div></div></div></div>"
      ],
      "text/plain": [
       "Pipeline(steps=[('countvectorizer', CountVectorizer()),\n",
       "                ('multinomialnb', MultinomialNB())])"
      ]
     },
     "execution_count": 15,
     "metadata": {},
     "output_type": "execute_result"
    }
   ],
   "source": [
    "cvect_pipe1=make_pipeline(CountVectorizer(),\n",
    "                    MultinomialNB())\n",
    "cvect_pipe1.fit(X_train,y_train)"
   ]
  },
  {
   "cell_type": "code",
   "execution_count": 16,
   "id": "d1722cdb-09dd-4764-963f-df47fe6afba4",
   "metadata": {},
   "outputs": [
    {
     "name": "stdout",
     "output_type": "stream",
     "text": [
      "Score Train:  0.9717741935483871\n",
      "Score Test:  0.7550200803212851\n"
     ]
    }
   ],
   "source": [
    "print('Score Train: ', cvect_pipe1.score(X_train, y_train))\n",
    "print('Score Test: ', cvect_pipe1.score(X_test, y_test))"
   ]
  },
  {
   "cell_type": "code",
   "execution_count": 17,
   "id": "18fa9f5e-2c04-49f8-9808-f60f6b94d41c",
   "metadata": {},
   "outputs": [
    {
     "data": {
      "image/png": "[encoded data removed]",
      "text/plain": [
       "<Figure size 432x288 with 2 Axes>"
      ]
     },
     "metadata": {
      "needs_background": "light"
     },
     "output_type": "display_data"
    }
   ],
   "source": [
    "ConfusionMatrixDisplay.from_estimator(cvect_pipe1, X_test, y_test,cmap='Blues',display_labels=['mgs','skyrim']);\n",
    "plt.title('cvect_pipe1');"
   ]
  },
  {
   "cell_type": "markdown",
   "id": "0de65df8-0fe3-4bd2-a55a-d08d954d1dad",
   "metadata": {},
   "source": [
    "###### Model 1.5: cvect_pipe1 with parameters modified using GridSearch"
   ]
  },
  {
   "cell_type": "code",
   "execution_count": 18,
   "id": "4e5bb988-51dd-454b-97fa-077c7ba2545c",
   "metadata": {
    "tags": []
   },
   "outputs": [
    {
     "name": "stdout",
     "output_type": "stream",
     "text": [
      "Best Params:  {'countvectorizer__max_features': 2000, 'countvectorizer__ngram_range': (1, 1), 'countvectorizer__stop_words': 'english'}\n",
      "Best Estimator Score Train:  0.9704301075268817\n",
      "Best Estimator Score Test:  0.7389558232931727\n"
     ]
    }
   ],
   "source": [
    "cvect_pipe1=make_pipeline(CountVectorizer(),\n",
    "                    MultinomialNB())\n",
    "\n",
    "cvect_pipe1.fit(X_train,y_train)\n",
    "\n",
    "cvect_pipe1.get_params()\n",
    "\n",
    "#Katie helped with this\n",
    "params={'countvectorizer__ngram_range': [(1, 1),(1,2)],\n",
    "        'countvectorizer__max_features': [1000,2000],\n",
    "        'countvectorizer__stop_words': [None,'english']}\n",
    "\n",
    "\n",
    "gs1=GridSearchCV(cvect_pipe1,params,cv=5,n_jobs=-1)\n",
    "gs1.fit(X_train,y_train)\n",
    "print('Best Params: ',gs1.best_params_)\n",
    "print('Best Estimator Score Train: ', gs1.best_estimator_.score(X_train, y_train))\n",
    "print('Best Estimator Score Test: ', gs1.best_estimator_.score(X_test, y_test))"
   ]
  },
  {
   "cell_type": "code",
   "execution_count": 19,
   "id": "37d9720a-e23e-41d3-a971-de6101f062a0",
   "metadata": {},
   "outputs": [
    {
     "data": {
      "image/png": "[encoded data removed]",
      "text/plain": [
       "<Figure size 432x288 with 2 Axes>"
      ]
     },
     "metadata": {
      "needs_background": "light"
     },
     "output_type": "display_data"
    }
   ],
   "source": [
    "plot_confusion_matrix(gs1, X_test, y_test, cmap='Blues',display_labels=['mgs','skyrim']);\n",
    "plt.title(\"cvect_pipe1 with GridSearch\");"
   ]
  },
  {
   "cell_type": "markdown",
   "id": "b4d9cbb6-c8e8-4603-9f06-dea668439a42",
   "metadata": {},
   "source": [
    "###### Model 2 will be a similar model, but will use TfidfVectorizer with some modified parameters"
   ]
  },
  {
   "cell_type": "code",
   "execution_count": 20,
   "id": "3ec12329-7f61-4337-9766-6e0826e8360f",
   "metadata": {
    "tags": []
   },
   "outputs": [
    {
     "name": "stdout",
     "output_type": "stream",
     "text": [
      "Best Params:  {'tfidfvectorizer__max_features': 2000, 'tfidfvectorizer__ngram_range': (1, 1), 'tfidfvectorizer__stop_words': 'english'}\n",
      "Best Estimator Score Train:  0.9838709677419355\n",
      "Best Estimator Score Test:  0.7429718875502008\n"
     ]
    }
   ],
   "source": [
    "#add more\n",
    "tfidf_pipe1=make_pipeline(TfidfVectorizer(stop_words = 'english', max_features=1000),\n",
    "                    MultinomialNB())\n",
    "\n",
    "params={'tfidfvectorizer__ngram_range': [(1, 1),(1,2)],\n",
    "        'tfidfvectorizer__max_features': [1000,2000],\n",
    "        'tfidfvectorizer__stop_words': [None,'english']}\n",
    "\n",
    "\n",
    "gs2=GridSearchCV(tfidf_pipe1,params)\n",
    "gs2.fit(X_train,y_train)\n",
    "print('Best Params: ',gs2.best_params_)\n",
    "print('Best Estimator Score Train: ', gs2.best_estimator_.score(X_train, y_train))\n",
    "print('Best Estimator Score Test: ', gs2.best_estimator_.score(X_test, y_test))"
   ]
  },
  {
   "cell_type": "code",
   "execution_count": 21,
   "id": "a0b96bee-3557-4bf9-8f2b-09061effc673",
   "metadata": {
    "tags": []
   },
   "outputs": [
    {
     "data": {
      "image/png": "[encoded data removed]",
      "text/plain": [
       "<Figure size 432x288 with 2 Axes>"
      ]
     },
     "metadata": {
      "needs_background": "light"
     },
     "output_type": "display_data"
    }
   ],
   "source": [
    "plot_confusion_matrix(gs2, X_test, y_test, cmap='Blues',display_labels=['mgs','skyrim']);\n",
    "plt.title(\"tfidf_pipe1\");"
   ]
  },
  {
   "cell_type": "markdown",
   "id": "3cd7797a-b860-4317-825f-dec0f52362d7",
   "metadata": {},
   "source": [
    "###### Model 3 will use CountVectorizer with StandardScaler and Logistic regresstion. They will have modified parameters as well, and GridSearch is used on CountVectorizer"
   ]
  },
  {
   "cell_type": "code",
   "execution_count": 22,
   "id": "ec292cad-aa93-404d-8f30-c394df4c201d",
   "metadata": {},
   "outputs": [
    {
     "name": "stdout",
     "output_type": "stream",
     "text": [
      "Best Params:  {'countvectorizer__max_features': 2000, 'countvectorizer__ngram_range': (1, 2), 'countvectorizer__stop_words': None}\n",
      "Best Estimator Score Train:  0.9865591397849462\n",
      "Best Estimator Score Test:  0.7710843373493976\n"
     ]
    }
   ],
   "source": [
    "cvect_pipe2 = make_pipeline(CountVectorizer(),\n",
    "                           StandardScaler(with_mean=False),\n",
    "                          LogisticRegression(penalty = 'none', max_iter = 2000))\n",
    "\n",
    "params={'countvectorizer__max_features': [None, 1000,2000],\n",
    "        'countvectorizer__ngram_range': [(1, 1),(1,2),(2,2)],\n",
    "        'countvectorizer__stop_words': [None,'english']}\n",
    "\n",
    "\n",
    "gs3=GridSearchCV(cvect_pipe2,params)\n",
    "gs3.fit(X_train,y_train)\n",
    "print('Best Params: ',gs3.best_params_)\n",
    "print('Best Estimator Score Train: ', gs3.best_estimator_.score(X_train, y_train))\n",
    "print('Best Estimator Score Test: ', gs3.best_estimator_.score(X_test, y_test))"
   ]
  },
  {
   "cell_type": "code",
   "execution_count": 23,
   "id": "b018e302-4d22-4448-b9e0-21bc3b0e3493",
   "metadata": {},
   "outputs": [
    {
     "data": {
      "image/png": "[encoded data removed]",
      "text/plain": [
       "<Figure size 432x288 with 2 Axes>"
      ]
     },
     "metadata": {
      "needs_background": "light"
     },
     "output_type": "display_data"
    }
   ],
   "source": [
    "plot_confusion_matrix(gs3, X_test, y_test, cmap='Blues',display_labels=['mgs','skyrim']);\n",
    "plt.title(\"cvect_pipe2\");"
   ]
  },
  {
   "cell_type": "markdown",
   "id": "33fbfca4-ab96-4ef4-b22a-a1512bc8a978",
   "metadata": {},
   "source": [
    "###### Model 4 with TfidfVectorizer and Logistic Regression"
   ]
  },
  {
   "cell_type": "code",
   "execution_count": 24,
   "id": "80dd57c9-f6c9-4c87-a50e-978ab4c988e6",
   "metadata": {},
   "outputs": [
    {
     "name": "stdout",
     "output_type": "stream",
     "text": [
      "Best Params:  {'tfidfvectorizer__max_features': 2000, 'tfidfvectorizer__ngram_range': (1, 2), 'tfidfvectorizer__stop_words': None}\n",
      "Best Estimator Score Train:  0.9865591397849462\n",
      "Best Estimator Score Test:  0.7630522088353414\n"
     ]
    }
   ],
   "source": [
    "tfidf_pipe2 = make_pipeline(TfidfVectorizer(),\n",
    "                           StandardScaler(with_mean=False),\n",
    "                          LogisticRegression(penalty = 'none', max_iter = 1000))\n",
    "\n",
    "params={'tfidfvectorizer__max_features': [None, 1000,2000],\n",
    "        'tfidfvectorizer__ngram_range': [(1, 1),(1,2),(2,2)],\n",
    "        'tfidfvectorizer__stop_words': [None,'english']}\n",
    "\n",
    "\n",
    "gs4=GridSearchCV(tfidf_pipe2,params)\n",
    "gs4.fit(X_train,y_train)\n",
    "print('Best Params: ',gs4.best_params_)\n",
    "print('Best Estimator Score Train: ', gs4.best_estimator_.score(X_train, y_train))\n",
    "print('Best Estimator Score Test: ', gs4.best_estimator_.score(X_test, y_test))"
   ]
  },
  {
   "cell_type": "code",
   "execution_count": 25,
   "id": "cb9e55db-938d-4384-89f4-ff86958ad9b9",
   "metadata": {
    "tags": []
   },
   "outputs": [
    {
     "data": {
      "image/png": "[encoded data removed]",
      "text/plain": [
       "<Figure size 432x288 with 2 Axes>"
      ]
     },
     "metadata": {
      "needs_background": "light"
     },
     "output_type": "display_data"
    }
   ],
   "source": [
    "plot_confusion_matrix(gs4, X_test, y_test, cmap='Blues',display_labels=['mgs','skyrim']);\n",
    "plt.title(\"tfidf_pipe2\");"
   ]
  },
  {
   "cell_type": "markdown",
   "id": "4eeeecac-d86e-4372-8395-d74677d61a00",
   "metadata": {},
   "source": [
    "###### Model 5 with CountVectorizer and RandomForestClassifier"
   ]
  },
  {
   "cell_type": "code",
   "execution_count": 26,
   "id": "4ee9728a-72db-443e-b160-279c8e288a8d",
   "metadata": {},
   "outputs": [
    {
     "name": "stdout",
     "output_type": "stream",
     "text": [
      "Best Params:  {'countvectorizer__max_features': 1000, 'countvectorizer__ngram_range': (1, 1), 'countvectorizer__stop_words': 'english', 'randomforestclassifier__criterion': 'gini', 'randomforestclassifier__max_depth': 30, 'randomforestclassifier__n_estimators': 40}\n",
      "Best Estimator Score Train:  0.831989247311828\n",
      "Best Estimator Score Test:  0.7911646586345381\n"
     ]
    }
   ],
   "source": [
    "cvect_pipe3 = make_pipeline(CountVectorizer(),\n",
    "                           RandomForestClassifier())\n",
    "\n",
    "params={'countvectorizer__max_features': [None, 1000,2000],\n",
    "        'countvectorizer__ngram_range': [(1, 1),(1,2),(2,2)],\n",
    "        'countvectorizer__stop_words': [None,'english'],\n",
    "        'randomforestclassifier__criterion': ['gini'],\n",
    "        'randomforestclassifier__max_depth': [25,30],\n",
    "        'randomforestclassifier__n_estimators': [20,40,60]}\n",
    "        \n",
    "\n",
    "\n",
    "gs4=GridSearchCV(cvect_pipe3,params,cv=5)\n",
    "gs4.fit(X_train,y_train)\n",
    "print('Best Params: ',gs4.best_params_)\n",
    "print('Best Estimator Score Train: ', gs4.best_estimator_.score(X_train, y_train))\n",
    "print('Best Estimator Score Test: ', gs4.best_estimator_.score(X_test, y_test))"
   ]
  },
  {
   "cell_type": "code",
   "execution_count": 27,
   "id": "5e669fc9-783d-437b-b311-eab3c6378906",
   "metadata": {
    "collapsed": true,
    "jupyter": {
     "outputs_hidden": true
    },
    "tags": []
   },
   "outputs": [
    {
     "data": {
      "text/plain": [
       "{'memory': None,\n",
       " 'steps': [('countvectorizer', CountVectorizer()),\n",
       "  ('randomforestclassifier', RandomForestClassifier())],\n",
       " 'verbose': False,\n",
       " 'countvectorizer': CountVectorizer(),\n",
       " 'randomforestclassifier': RandomForestClassifier(),\n",
       " 'countvectorizer__analyzer': 'word',\n",
       " 'countvectorizer__binary': False,\n",
       " 'countvectorizer__decode_error': 'strict',\n",
       " 'countvectorizer__dtype': numpy.int64,\n",
       " 'countvectorizer__encoding': 'utf-8',\n",
       " 'countvectorizer__input': 'content',\n",
       " 'countvectorizer__lowercase': True,\n",
       " 'countvectorizer__max_df': 1.0,\n",
       " 'countvectorizer__max_features': None,\n",
       " 'countvectorizer__min_df': 1,\n",
       " 'countvectorizer__ngram_range': (1, 1),\n",
       " 'countvectorizer__preprocessor': None,\n",
       " 'countvectorizer__stop_words': None,\n",
       " 'countvectorizer__strip_accents': None,\n",
       " 'countvectorizer__token_pattern': '(?u)\\\\b\\\\w\\\\w+\\\\b',\n",
       " 'countvectorizer__tokenizer': None,\n",
       " 'countvectorizer__vocabulary': None,\n",
       " 'randomforestclassifier__bootstrap': True,\n",
       " 'randomforestclassifier__ccp_alpha': 0.0,\n",
       " 'randomforestclassifier__class_weight': None,\n",
       " 'randomforestclassifier__criterion': 'gini',\n",
       " 'randomforestclassifier__max_depth': None,\n",
       " 'randomforestclassifier__max_features': 'auto',\n",
       " 'randomforestclassifier__max_leaf_nodes': None,\n",
       " 'randomforestclassifier__max_samples': None,\n",
       " 'randomforestclassifier__min_impurity_decrease': 0.0,\n",
       " 'randomforestclassifier__min_samples_leaf': 1,\n",
       " 'randomforestclassifier__min_samples_split': 2,\n",
       " 'randomforestclassifier__min_weight_fraction_leaf': 0.0,\n",
       " 'randomforestclassifier__n_estimators': 100,\n",
       " 'randomforestclassifier__n_jobs': None,\n",
       " 'randomforestclassifier__oob_score': False,\n",
       " 'randomforestclassifier__random_state': None,\n",
       " 'randomforestclassifier__verbose': 0,\n",
       " 'randomforestclassifier__warm_start': False}"
      ]
     },
     "execution_count": 27,
     "metadata": {},
     "output_type": "execute_result"
    }
   ],
   "source": [
    "cvect_pipe3.get_params()"
   ]
  },
  {
   "cell_type": "code",
   "execution_count": 28,
   "id": "61000cce-d504-4f5a-af44-130fd9bfe921",
   "metadata": {},
   "outputs": [
    {
     "data": {
      "image/png": "[encoded data removed]",
      "text/plain": [
       "<Figure size 432x288 with 2 Axes>"
      ]
     },
     "metadata": {
      "needs_background": "light"
     },
     "output_type": "display_data"
    }
   ],
   "source": [
    "plot_confusion_matrix(gs4, X_test, y_test, cmap='Blues',display_labels=['mgs','skyrim']);\n",
    "plt.title(\"cvect_pipe3\");"
   ]
  },
  {
   "cell_type": "markdown",
   "id": "ca60c2b0-803f-4df3-bbbe-8abbd8383ddf",
   "metadata": {},
   "source": [
    "###### Model 6  with TfidfVectorizer and RandomForestClassifier"
   ]
  },
  {
   "cell_type": "code",
   "execution_count": 29,
   "id": "fb9f7c43-5d9e-44ea-82af-4b44920201b4",
   "metadata": {},
   "outputs": [
    {
     "name": "stdout",
     "output_type": "stream",
     "text": [
      "Best Params:  {'randomforestclassifier__criterion': 'gini', 'randomforestclassifier__max_depth': 30, 'randomforestclassifier__n_estimators': 20, 'tfidfvectorizer__max_features': None, 'tfidfvectorizer__ngram_range': (1, 1), 'tfidfvectorizer__stop_words': 'english'}\n",
      "Best Estimator Score Train:  0.8521505376344086\n",
      "Best Estimator Score Test:  0.8032128514056225\n"
     ]
    }
   ],
   "source": [
    "tfidf_pipe3 = make_pipeline(TfidfVectorizer(),\n",
    "                           RandomForestClassifier())\n",
    "\n",
    "params={'tfidfvectorizer__max_features': [None, 1000,2000],\n",
    "        'tfidfvectorizer__ngram_range': [(1, 1),(1,2),(2,2)],\n",
    "        'tfidfvectorizer__stop_words': [None,'english'],\n",
    "        'randomforestclassifier__criterion': ['gini'],\n",
    "        'randomforestclassifier__max_depth': [25,30],\n",
    "        'randomforestclassifier__n_estimators': [20,40,60]}\n",
    "        \n",
    "\n",
    "\n",
    "gs4=GridSearchCV(tfidf_pipe3,params,cv=5)\n",
    "gs4.fit(X_train,y_train)\n",
    "print('Best Params: ',gs4.best_params_)\n",
    "print('Best Estimator Score Train: ', gs4.best_estimator_.score(X_train, y_train))\n",
    "print('Best Estimator Score Test: ', gs4.best_estimator_.score(X_test, y_test))"
   ]
  },
  {
   "cell_type": "code",
   "execution_count": 62,
   "id": "ee573238-1b89-408c-92af-d7ec3903450a",
   "metadata": {},
   "outputs": [
    {
     "data": {
      "image/png": "[encoded data removed]",
      "text/plain": [
       "<Figure size 432x288 with 2 Axes>"
      ]
     },
     "metadata": {
      "needs_background": "light"
     },
     "output_type": "display_data"
    }
   ],
   "source": [
    "plot_confusion_matrix(gs4, X_test, y_test, cmap='Blues',display_labels=['mgs','skyrim']);\n",
    "plt.title(\"tfidf_pipe3\");"
   ]
  },
  {
   "cell_type": "code",
   "execution_count": 65,
   "id": "07a86679-65d4-42df-8629-81dbc6f47ecb",
   "metadata": {},
   "outputs": [
    {
     "data": {
      "image/png": "[encoded data removed]",
      "text/plain": [
       "<Figure size 432x288 with 2 Axes>"
      ]
     },
     "metadata": {
      "needs_background": "light"
     },
     "output_type": "display_data"
    }
   ],
   "source": [
    "plot_confusion_matrix(gs4, X_test, y_test, cmap='Blues',display_labels=['mgs','skyrim'],normalize='true');\n",
    "plt.title(\"tfidf_pipe3\");"
   ]
  },
  {
   "cell_type": "code",
   "execution_count": 39,
   "id": "243bb0d8-1f5e-4b15-94d2-c41b8803a2f1",
   "metadata": {},
   "outputs": [],
   "source": [
    "ft_imp=gs4.best_estimator_.named_steps[\"randomforestclassifier\"].feature_importances_"
   ]
  },
  {
   "cell_type": "code",
   "execution_count": 40,
   "id": "85034ed9-d200-48b3-b617-c77aa4f20bf0",
   "metadata": {},
   "outputs": [],
   "source": [
    "ft_names=gs4.best_estimator_.named_steps[\"tfidfvectorizer\"].get_feature_names_out()"
   ]
  },
  {
   "cell_type": "code",
   "execution_count": 42,
   "id": "c0a2ccb9-476a-4e5f-8f51-44401f5fd944",
   "metadata": {},
   "outputs": [],
   "source": [
    "words=pd.DataFrame(ft_imp,index=ft_names)"
   ]
  },
  {
   "cell_type": "code",
   "execution_count": 46,
   "id": "c1e378d5-5abc-4580-80a0-acbd111fc17a",
   "metadata": {},
   "outputs": [],
   "source": [
    "sorted_words=words.sort_values(by=0,ascending=False)"
   ]
  },
  {
   "cell_type": "code",
   "execution_count": 47,
   "id": "f33c44ac-890c-45f2-b56b-a4ea27ff2450",
   "metadata": {},
   "outputs": [
    {
     "data": {
      "text/html": [
       "<div>\n",
       "<style scoped>\n",
       "    .dataframe tbody tr th:only-of-type {\n",
       "        vertical-align: middle;\n",
       "    }\n",
       "\n",
       "    .dataframe tbody tr th {\n",
       "        vertical-align: top;\n",
       "    }\n",
       "\n",
       "    .dataframe thead th {\n",
       "        text-align: right;\n",
       "    }\n",
       "</style>\n",
       "<table border=\"1\" class=\"dataframe\">\n",
       "  <thead>\n",
       "    <tr style=\"text-align: right;\">\n",
       "      <th></th>\n",
       "      <th>0</th>\n",
       "    </tr>\n",
       "  </thead>\n",
       "  <tbody>\n",
       "    <tr>\n",
       "      <th>gear</th>\n",
       "      <td>0.099360</td>\n",
       "    </tr>\n",
       "    <tr>\n",
       "      <th>skyrim</th>\n",
       "      <td>0.076080</td>\n",
       "    </tr>\n",
       "    <tr>\n",
       "      <th>metal</th>\n",
       "      <td>0.039361</td>\n",
       "    </tr>\n",
       "    <tr>\n",
       "      <th>snake</th>\n",
       "      <td>0.035426</td>\n",
       "    </tr>\n",
       "    <tr>\n",
       "      <th>solid</th>\n",
       "      <td>0.028512</td>\n",
       "    </tr>\n",
       "    <tr>\n",
       "      <th>...</th>\n",
       "      <td>...</td>\n",
       "    </tr>\n",
       "    <tr>\n",
       "      <th>ground</th>\n",
       "      <td>0.000000</td>\n",
       "    </tr>\n",
       "    <tr>\n",
       "      <th>grindstone</th>\n",
       "      <td>0.000000</td>\n",
       "    </tr>\n",
       "    <tr>\n",
       "      <th>greybeard</th>\n",
       "      <td>0.000000</td>\n",
       "    </tr>\n",
       "    <tr>\n",
       "      <th>grenade</th>\n",
       "      <td>0.000000</td>\n",
       "    </tr>\n",
       "    <tr>\n",
       "      <th>zombie</th>\n",
       "      <td>0.000000</td>\n",
       "    </tr>\n",
       "  </tbody>\n",
       "</table>\n",
       "<p>1951 rows × 1 columns</p>\n",
       "</div>"
      ],
      "text/plain": [
       "                   0\n",
       "gear        0.099360\n",
       "skyrim      0.076080\n",
       "metal       0.039361\n",
       "snake       0.035426\n",
       "solid       0.028512\n",
       "...              ...\n",
       "ground      0.000000\n",
       "grindstone  0.000000\n",
       "greybeard   0.000000\n",
       "grenade     0.000000\n",
       "zombie      0.000000\n",
       "\n",
       "[1951 rows x 1 columns]"
      ]
     },
     "execution_count": 47,
     "metadata": {},
     "output_type": "execute_result"
    }
   ],
   "source": [
    "sorted_words"
   ]
  },
  {
   "cell_type": "code",
   "execution_count": 61,
   "id": "50299e0d-c207-40d1-9dd4-6ec015aa6dd9",
   "metadata": {},
   "outputs": [
    {
     "data": {
      "image/png": "[encoded data removed]",
      "text/plain": [
       "<Figure size 1440x1080 with 1 Axes>"
      ]
     },
     "metadata": {
      "needs_background": "light"
     },
     "output_type": "display_data"
    }
   ],
   "source": [
    "top25=sorted_words[:25]\n",
    "\n",
    "top25\n",
    "top25.rename(columns={0:'feature_importances'},inplace=True)\n",
    "\n",
    "plt.figure(figsize=(20,15))\n",
    "plt.title(\"Top 25 Words Feature Importances\",fontsize=30)\n",
    "bplot=sns.barplot(data=top25,y=top25['feature_importances'],x=top25.index,palette='mako',orient='v');\n",
    "#helped by Katie\n",
    "for p in bplot.patches:\n",
    "    bplot.annotate(format(p.get_height(), '.4f'), \n",
    "                   (p.get_x() + p.get_width() / 2., p.get_height()), \n",
    "                   ha = 'center', va = 'center', \n",
    "                   xytext = (0, 9), \n",
    "                   textcoords = 'offset points')\n",
    "plt.xlabel('Words',fontsize=15);\n",
    "plt.ylabel('Feature Importance',fontsize=15);"
   ]
  },
  {
   "cell_type": "markdown",
   "id": "5f5259f8-93d0-4c8f-a0d5-7d3b0f80303e",
   "metadata": {},
   "source": [
    "# IV.Conclusion"
   ]
  },
  {
   "cell_type": "markdown",
   "id": "0070d5fb-89ae-4240-bbaa-fec16c1b63e6",
   "metadata": {},
   "source": [
    "After running several models with different parameters I was able to find some that worked better than others on predicting the right subreddit. The model that worked best was Model 6 which preprocesses with TfidfVectorizer and then fits to a RandomTreeClassifier. The results yielded a train score of 0.852, and test score of 0.803 which is a 30% increase from the baseline model. This model is unfortunately not very interpretable, but with the feature importances we can see which words are important in determining the classification of the the subreddits. The model falls short because the false negatives appear 34% of the time. However false positives only appear 5% of the time. This indicates that the model is more accurate in predicting the correct outcomes based on metal gear solid key words, but had trouble with predicting based on skyrim's key words.\n",
    "Overall I would still recommend this model to be used to predict subreddit posts for metal gear solid to Konami in order to make announcements when the subreddit is highly active."
   ]
  }
 ],
 "metadata": {
  "kernelspec": {
   "display_name": "Python 3",
   "language": "python",
   "name": "python3"
  },
  "language_info": {
   "codemirror_mode": {
    "name": "ipython",
    "version": 3
   },
   "file_extension": ".py",
   "mimetype": "text/x-python",
   "name": "python",
   "nbconvert_exporter": "python",
   "pygments_lexer": "ipython3",
   "version": "3.8.8"
  }
 },
 "nbformat": 4,
 "nbformat_minor": 5
}
