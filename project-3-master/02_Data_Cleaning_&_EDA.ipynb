{
 "cells": [
  {
   "cell_type": "markdown",
   "id": "da968753-33cd-4bf2-af57-41154e819076",
   "metadata": {},
   "source": [
    "# II. Data Cleaning and EDA"
   ]
  },
  {
   "cell_type": "code",
   "execution_count": 17,
   "id": "ba140f72-4e3c-4c5b-994a-a598b2e76229",
   "metadata": {
    "tags": []
   },
   "outputs": [],
   "source": [
    "import matplotlib.pyplot as plt\n",
    "import pandas as pd\n",
    "import numpy as np\n",
    "import scipy.stats as stats\n",
    "import seaborn as sns\n",
    "from imblearn.pipeline import make_pipeline\n",
    "from nltk.tokenize import sent_tokenize, word_tokenize, RegexpTokenizer\n",
    "from nltk.corpus import stopwords\n",
    "\n",
    "# SKlearn imports:\n",
    "from sklearn.feature_extraction.text import CountVectorizer, TfidfVectorizer\n",
    "from sklearn.model_selection import train_test_split, GridSearchCV, cross_val_score\n",
    "from sklearn.linear_model import LogisticRegression\n",
    "from sklearn.metrics import mean_squared_error\n",
    "from sklearn.metrics import ConfusionMatrixDisplay, confusion_matrix\n",
    "from sklearn.neighbors import NearestNeighbors, KNeighborsClassifier, KNeighborsRegressor\n",
    "from sklearn.pipeline import make_pipeline\n",
    "from sklearn.impute import KNNImputer, SimpleImputer\n",
    "from sklearn.preprocessing import StandardScaler, OneHotEncoder, PolynomialFeatures\n",
    "from sklearn.tree import DecisionTreeRegressor, plot_tree, DecisionTreeClassifier\n",
    "from sklearn import set_config\n",
    "set_config(display = 'diagram')\n",
    "from sklearn.ensemble import BaggingClassifier, RandomForestClassifier\n",
    "from sklearn.ensemble import ExtraTreesClassifier, VotingClassifier, BaggingRegressor, RandomForestRegressor\n",
    "\n",
    "\n",
    "from nltk.stem import WordNetLemmatizer \n",
    "import nltk\n",
    "# nltk.download('wordnet')\n",
    "# nltk.download('stopwords')\n",
    "\n",
    "from imblearn.pipeline import make_pipeline\n",
    "\n",
    "from sklearn.ensemble import AdaBoostRegressor, GradientBoostingRegressor\n",
    "from sklearn.model_selection import train_test_split\n",
    "\n",
    "\n",
    "\n",
    "#go back and remove what you don't use"
   ]
  },
  {
   "cell_type": "code",
   "execution_count": 18,
   "id": "7dffa16d-f1c9-499b-88d1-b0fc99a419f2",
   "metadata": {},
   "outputs": [],
   "source": [
    "subreddits=pd.read_csv('./data/final_df')"
   ]
  },
  {
   "cell_type": "code",
   "execution_count": 19,
   "id": "3f68e819-8b2d-4a59-b6be-79254b442a33",
   "metadata": {},
   "outputs": [
    {
     "data": {
      "text/html": [
       "<div>\n",
       "<style scoped>\n",
       "    .dataframe tbody tr th:only-of-type {\n",
       "        vertical-align: middle;\n",
       "    }\n",
       "\n",
       "    .dataframe tbody tr th {\n",
       "        vertical-align: top;\n",
       "    }\n",
       "\n",
       "    .dataframe thead th {\n",
       "        text-align: right;\n",
       "    }\n",
       "</style>\n",
       "<table border=\"1\" class=\"dataframe\">\n",
       "  <thead>\n",
       "    <tr style=\"text-align: right;\">\n",
       "      <th></th>\n",
       "      <th>subreddit</th>\n",
       "      <th>title</th>\n",
       "      <th>is_mgs</th>\n",
       "      <th>clean_title</th>\n",
       "    </tr>\n",
       "  </thead>\n",
       "  <tbody>\n",
       "    <tr>\n",
       "      <th>0</th>\n",
       "      <td>skyrim</td>\n",
       "      <td>Hired thugs make bad choices lol</td>\n",
       "      <td>0</td>\n",
       "      <td>hired thug make bad choice lol</td>\n",
       "    </tr>\n",
       "    <tr>\n",
       "      <th>1</th>\n",
       "      <td>skyrim</td>\n",
       "      <td>TIL you can find a madwoman out in the wildern...</td>\n",
       "      <td>0</td>\n",
       "      <td>til find madwoman wilderness sheogorath's ques...</td>\n",
       "    </tr>\n",
       "    <tr>\n",
       "      <th>2</th>\n",
       "      <td>skyrim</td>\n",
       "      <td>I Have All Skyrim Books in EPUB Format</td>\n",
       "      <td>0</td>\n",
       "      <td>skyrim book epub format</td>\n",
       "    </tr>\n",
       "    <tr>\n",
       "      <th>3</th>\n",
       "      <td>skyrim</td>\n",
       "      <td>Foggy night</td>\n",
       "      <td>0</td>\n",
       "      <td>foggy night</td>\n",
       "    </tr>\n",
       "    <tr>\n",
       "      <th>4</th>\n",
       "      <td>skyrim</td>\n",
       "      <td>First trophy was not a month after release. To...</td>\n",
       "      <td>0</td>\n",
       "      <td>first trophy month release today completed ody...</td>\n",
       "    </tr>\n",
       "  </tbody>\n",
       "</table>\n",
       "</div>"
      ],
      "text/plain": [
       "  subreddit                                              title  is_mgs  \\\n",
       "0    skyrim                   Hired thugs make bad choices lol       0   \n",
       "1    skyrim  TIL you can find a madwoman out in the wildern...       0   \n",
       "2    skyrim             I Have All Skyrim Books in EPUB Format       0   \n",
       "3    skyrim                                        Foggy night       0   \n",
       "4    skyrim  First trophy was not a month after release. To...       0   \n",
       "\n",
       "                                         clean_title  \n",
       "0                     hired thug make bad choice lol  \n",
       "1  til find madwoman wilderness sheogorath's ques...  \n",
       "2                            skyrim book epub format  \n",
       "3                                        foggy night  \n",
       "4  first trophy month release today completed ody...  "
      ]
     },
     "execution_count": 19,
     "metadata": {},
     "output_type": "execute_result"
    }
   ],
   "source": [
    "subreddits.head()"
   ]
  },
  {
   "cell_type": "code",
   "execution_count": 33,
   "id": "4b2e16e1-561d-4d36-80aa-d9cc70352b80",
   "metadata": {},
   "outputs": [
    {
     "data": {
      "text/html": [
       "<div>\n",
       "<style scoped>\n",
       "    .dataframe tbody tr th:only-of-type {\n",
       "        vertical-align: middle;\n",
       "    }\n",
       "\n",
       "    .dataframe tbody tr th {\n",
       "        vertical-align: top;\n",
       "    }\n",
       "\n",
       "    .dataframe thead th {\n",
       "        text-align: right;\n",
       "    }\n",
       "</style>\n",
       "<table border=\"1\" class=\"dataframe\">\n",
       "  <thead>\n",
       "    <tr style=\"text-align: right;\">\n",
       "      <th></th>\n",
       "      <th>subreddit</th>\n",
       "      <th>title</th>\n",
       "      <th>is_mgs</th>\n",
       "      <th>clean_title</th>\n",
       "      <th>title_length</th>\n",
       "      <th>title_word_count</th>\n",
       "    </tr>\n",
       "  </thead>\n",
       "  <tbody>\n",
       "    <tr>\n",
       "      <th>995</th>\n",
       "      <td>metalgearsolid</td>\n",
       "      <td>Finished Metal Gear 1! That's a lotta bodies...</td>\n",
       "      <td>1</td>\n",
       "      <td>finished metal gear 1 that's lotta body</td>\n",
       "      <td>47</td>\n",
       "      <td>8</td>\n",
       "    </tr>\n",
       "    <tr>\n",
       "      <th>996</th>\n",
       "      <td>metalgearsolid</td>\n",
       "      <td>Mgs3 ending</td>\n",
       "      <td>1</td>\n",
       "      <td>mgs3 ending</td>\n",
       "      <td>11</td>\n",
       "      <td>2</td>\n",
       "    </tr>\n",
       "    <tr>\n",
       "      <th>997</th>\n",
       "      <td>metalgearsolid</td>\n",
       "      <td>I cry every time</td>\n",
       "      <td>1</td>\n",
       "      <td>cry every time</td>\n",
       "      <td>16</td>\n",
       "      <td>4</td>\n",
       "    </tr>\n",
       "    <tr>\n",
       "      <th>998</th>\n",
       "      <td>metalgearsolid</td>\n",
       "      <td>This thing is long gone, but it used to look s...</td>\n",
       "      <td>1</td>\n",
       "      <td>thing long gone used look good car</td>\n",
       "      <td>65</td>\n",
       "      <td>15</td>\n",
       "    </tr>\n",
       "    <tr>\n",
       "      <th>999</th>\n",
       "      <td>metalgearsolid</td>\n",
       "      <td>Digital painting of Venom Snake</td>\n",
       "      <td>1</td>\n",
       "      <td>digital painting venom snake</td>\n",
       "      <td>31</td>\n",
       "      <td>5</td>\n",
       "    </tr>\n",
       "  </tbody>\n",
       "</table>\n",
       "</div>"
      ],
      "text/plain": [
       "          subreddit                                              title  \\\n",
       "995  metalgearsolid    Finished Metal Gear 1! That's a lotta bodies...   \n",
       "996  metalgearsolid                                        Mgs3 ending   \n",
       "997  metalgearsolid                                   I cry every time   \n",
       "998  metalgearsolid  This thing is long gone, but it used to look s...   \n",
       "999  metalgearsolid                    Digital painting of Venom Snake   \n",
       "\n",
       "     is_mgs                              clean_title  title_length  \\\n",
       "995       1  finished metal gear 1 that's lotta body            47   \n",
       "996       1                              mgs3 ending            11   \n",
       "997       1                           cry every time            16   \n",
       "998       1       thing long gone used look good car            65   \n",
       "999       1             digital painting venom snake            31   \n",
       "\n",
       "     title_word_count  \n",
       "995                 8  \n",
       "996                 2  \n",
       "997                 4  \n",
       "998                15  \n",
       "999                 5  "
      ]
     },
     "execution_count": 33,
     "metadata": {},
     "output_type": "execute_result"
    }
   ],
   "source": [
    "subreddits.tail()"
   ]
  },
  {
   "cell_type": "code",
   "execution_count": 22,
   "id": "44128143-e50f-43e7-9255-4361eb1f5b7e",
   "metadata": {},
   "outputs": [
    {
     "data": {
      "text/plain": [
       "0       32\n",
       "1      119\n",
       "2       38\n",
       "3       11\n",
       "4       73\n",
       "      ... \n",
       "995     47\n",
       "996     11\n",
       "997     16\n",
       "998     65\n",
       "999     31\n",
       "Name: title_length, Length: 1000, dtype: int64"
      ]
     },
     "execution_count": 22,
     "metadata": {},
     "output_type": "execute_result"
    }
   ],
   "source": [
    "subreddits['title_length']=subreddits['title'].str.len()\n",
    "subreddits['title_length']"
   ]
  },
  {
   "cell_type": "code",
   "execution_count": 23,
   "id": "ee9014d2-1f7b-4eeb-a988-346263b6e758",
   "metadata": {},
   "outputs": [
    {
     "data": {
      "text/plain": [
       "0       6\n",
       "1      23\n",
       "2       8\n",
       "3       2\n",
       "4      13\n",
       "       ..\n",
       "995     8\n",
       "996     2\n",
       "997     4\n",
       "998    15\n",
       "999     5\n",
       "Name: title_word_count, Length: 1000, dtype: int64"
      ]
     },
     "execution_count": 23,
     "metadata": {},
     "output_type": "execute_result"
    }
   ],
   "source": [
    "subreddits['title_word_count']=subreddits['title'].str.count(' ') + 1\n",
    "subreddits['title_word_count']"
   ]
  },
  {
   "cell_type": "markdown",
   "id": "8928383a-95cd-434d-90cc-f553068345d2",
   "metadata": {},
   "source": [
    "###### Splitting both subreddits to test for frequent words in bar charts below"
   ]
  },
  {
   "cell_type": "code",
   "execution_count": 34,
   "id": "7ab88d02-3a4e-46cc-9f44-26d4e1a4b299",
   "metadata": {},
   "outputs": [],
   "source": [
    "skyrim = subreddits[subreddits['subreddit']=='skyrim']\n",
    "mgs=subreddits[subreddits['subreddit']=='metalgearsolid']"
   ]
  },
  {
   "cell_type": "code",
   "execution_count": 35,
   "id": "6ff100d8-1133-4b27-93a5-69fc4f4a2237",
   "metadata": {},
   "outputs": [
    {
     "data": {
      "text/plain": [
       "(494, 6)"
      ]
     },
     "execution_count": 35,
     "metadata": {},
     "output_type": "execute_result"
    }
   ],
   "source": [
    "skyrim.shape"
   ]
  },
  {
   "cell_type": "code",
   "execution_count": 36,
   "id": "88adf077-320f-4d43-a7ae-92e24dc33bc6",
   "metadata": {},
   "outputs": [
    {
     "data": {
      "text/plain": [
       "(499, 6)"
      ]
     },
     "execution_count": 36,
     "metadata": {},
     "output_type": "execute_result"
    }
   ],
   "source": [
    "mgs.shape"
   ]
  },
  {
   "cell_type": "code",
   "execution_count": 24,
   "id": "34374384-0c53-4f6d-9ddd-14eddb166ff5",
   "metadata": {},
   "outputs": [],
   "source": [
    "sr_word_counts=subreddits.sort_values(by = ['title_word_count'],axis=0,ascending=True)"
   ]
  },
  {
   "cell_type": "code",
   "execution_count": 25,
   "id": "a5d45fcd-290b-4f64-ba1f-1b6e7598e73a",
   "metadata": {},
   "outputs": [
    {
     "data": {
      "image/png": "[encoded data removed]",
      "text/plain": [
       "<Figure size 360x360 with 1 Axes>"
      ]
     },
     "metadata": {
      "needs_background": "light"
     },
     "output_type": "display_data"
    }
   ],
   "source": [
    "plt.figure(figsize=(5,5))\n",
    "plt.title(\"Title Word Counts\",fontsize=20);\n",
    "sns.histplot(data=sr_word_counts,x='title_word_count',palette='mako');"
   ]
  },
  {
   "cell_type": "markdown",
   "id": "3a4a2319-aabf-4eb1-a2a3-5bc2b3d1bc83",
   "metadata": {},
   "source": [
    "###### Based on the histogram the majority of titles are between 1-15 words, but this is clearly right skewed."
   ]
  },
  {
   "cell_type": "code",
   "execution_count": 26,
   "id": "51c3c456-2976-4573-91d1-662190f1947e",
   "metadata": {},
   "outputs": [
    {
     "data": {
      "text/html": [
       "<div>\n",
       "<style scoped>\n",
       "    .dataframe tbody tr th:only-of-type {\n",
       "        vertical-align: middle;\n",
       "    }\n",
       "\n",
       "    .dataframe tbody tr th {\n",
       "        vertical-align: top;\n",
       "    }\n",
       "\n",
       "    .dataframe thead th {\n",
       "        text-align: right;\n",
       "    }\n",
       "</style>\n",
       "<table border=\"1\" class=\"dataframe\">\n",
       "  <thead>\n",
       "    <tr style=\"text-align: right;\">\n",
       "      <th></th>\n",
       "      <th>is_mgs</th>\n",
       "      <th>title_length</th>\n",
       "      <th>title_word_count</th>\n",
       "    </tr>\n",
       "  </thead>\n",
       "  <tbody>\n",
       "    <tr>\n",
       "      <th>count</th>\n",
       "      <td>1000.00000</td>\n",
       "      <td>1000.000000</td>\n",
       "      <td>1000.000000</td>\n",
       "    </tr>\n",
       "    <tr>\n",
       "      <th>mean</th>\n",
       "      <td>0.50000</td>\n",
       "      <td>56.061000</td>\n",
       "      <td>10.407000</td>\n",
       "    </tr>\n",
       "    <tr>\n",
       "      <th>std</th>\n",
       "      <td>0.50025</td>\n",
       "      <td>43.833191</td>\n",
       "      <td>8.401067</td>\n",
       "    </tr>\n",
       "    <tr>\n",
       "      <th>min</th>\n",
       "      <td>0.00000</td>\n",
       "      <td>1.000000</td>\n",
       "      <td>1.000000</td>\n",
       "    </tr>\n",
       "    <tr>\n",
       "      <th>25%</th>\n",
       "      <td>0.00000</td>\n",
       "      <td>28.000000</td>\n",
       "      <td>5.000000</td>\n",
       "    </tr>\n",
       "    <tr>\n",
       "      <th>50%</th>\n",
       "      <td>0.50000</td>\n",
       "      <td>46.000000</td>\n",
       "      <td>8.000000</td>\n",
       "    </tr>\n",
       "    <tr>\n",
       "      <th>75%</th>\n",
       "      <td>1.00000</td>\n",
       "      <td>70.000000</td>\n",
       "      <td>13.000000</td>\n",
       "    </tr>\n",
       "    <tr>\n",
       "      <th>max</th>\n",
       "      <td>1.00000</td>\n",
       "      <td>301.000000</td>\n",
       "      <td>56.000000</td>\n",
       "    </tr>\n",
       "  </tbody>\n",
       "</table>\n",
       "</div>"
      ],
      "text/plain": [
       "           is_mgs  title_length  title_word_count\n",
       "count  1000.00000   1000.000000       1000.000000\n",
       "mean      0.50000     56.061000         10.407000\n",
       "std       0.50025     43.833191          8.401067\n",
       "min       0.00000      1.000000          1.000000\n",
       "25%       0.00000     28.000000          5.000000\n",
       "50%       0.50000     46.000000          8.000000\n",
       "75%       1.00000     70.000000         13.000000\n",
       "max       1.00000    301.000000         56.000000"
      ]
     },
     "execution_count": 26,
     "metadata": {},
     "output_type": "execute_result"
    }
   ],
   "source": [
    "subreddits.describe() # just to see a table o what the title lengths and word counts are"
   ]
  },
  {
   "cell_type": "code",
   "execution_count": 27,
   "id": "df6c4612-360f-403c-94c9-6ab6d923a7fc",
   "metadata": {},
   "outputs": [
    {
     "data": {
      "text/plain": [
       "subreddit           0\n",
       "title               0\n",
       "is_mgs              0\n",
       "clean_title         7\n",
       "title_length        0\n",
       "title_word_count    0\n",
       "dtype: int64"
      ]
     },
     "execution_count": 27,
     "metadata": {},
     "output_type": "execute_result"
    }
   ],
   "source": [
    "subreddits.isna().sum()"
   ]
  },
  {
   "cell_type": "code",
   "execution_count": 28,
   "id": "2d736ce8-af04-4a28-bfab-ea880fe78e7e",
   "metadata": {},
   "outputs": [],
   "source": [
    "subreddits.dropna(inplace=True)\n",
    "subreddits.to_csv('./data/final_df')"
   ]
  },
  {
   "cell_type": "markdown",
   "id": "ea4e4430-6b7d-43c8-888a-a78b23f84a0f",
   "metadata": {},
   "source": [
    "#### Let's take a deeper look at what words are in the titles"
   ]
  },
  {
   "cell_type": "markdown",
   "id": "f5a2f5d4-47fb-4fae-9d51-0ca36bb9cd52",
   "metadata": {},
   "source": [
    "###### Here are the top 15 most frequent words in r/metalgearsolid."
   ]
  },
  {
   "cell_type": "code",
   "execution_count": 38,
   "id": "37537855-87ed-41e4-bc06-38f602a4f577",
   "metadata": {
    "tags": []
   },
   "outputs": [
    {
     "data": {
      "image/png": "[encoded data removed]",
      "text/plain": [
       "<Figure size 720x720 with 1 Axes>"
      ]
     },
     "metadata": {
      "needs_background": "light"
     },
     "output_type": "display_data"
    }
   ],
   "source": [
    "cvect=CountVectorizer(stop_words=\"english\",ngram_range=(1,1))\n",
    "clean_titles=cvect.fit_transform(mgs[\"clean_title\"])\n",
    "\n",
    "title_words=pd.DataFrame(data=clean_titles.toarray(), columns=cvect.get_feature_names_out())\n",
    "\n",
    "title_words.head()\n",
    "\n",
    "top15=pd.DataFrame(title_words.sum().sort_values(ascending=False)[:15])\n",
    "\n",
    "top15\n",
    "top15.rename(columns={0:'count'},inplace=True)\n",
    "\n",
    "plt.figure(figsize=(10,10))\n",
    "plt.title(\"Top 15 Words r/metalgearsolid\",fontsize=15)\n",
    "plt.xlabel('Words')\n",
    "sns.barplot(data=top15,x=top15['count'],y=top15.index,palette='mako',orient='h');"
   ]
  },
  {
   "cell_type": "markdown",
   "id": "cc664ac8-207e-47e2-ac07-d6b5d38b2c42",
   "metadata": {},
   "source": [
    "###### Here are the top 15 most frequent words in r/Skyrim."
   ]
  },
  {
   "cell_type": "code",
   "execution_count": 40,
   "id": "3db62887-191e-4f8c-83ac-1c9532fce2c7",
   "metadata": {},
   "outputs": [
    {
     "data": {
      "image/png": "[encoded data removed]",
      "text/plain": [
       "<Figure size 720x720 with 1 Axes>"
      ]
     },
     "metadata": {
      "needs_background": "light"
     },
     "output_type": "display_data"
    }
   ],
   "source": [
    "cvect=CountVectorizer(stop_words=\"english\",ngram_range=(1,1))\n",
    "clean_titles=cvect.fit_transform(skyrim[\"clean_title\"])\n",
    "\n",
    "title_words=pd.DataFrame(data=clean_titles.toarray(), columns=cvect.get_feature_names_out())\n",
    "\n",
    "title_words.head()\n",
    "\n",
    "top15=pd.DataFrame(title_words.sum().sort_values(ascending=False)[:15])\n",
    "\n",
    "top15\n",
    "top15.rename(columns={0:'count'},inplace=True)\n",
    "\n",
    "plt.figure(figsize=(10,10))\n",
    "plt.title(\"Top 15 Words r/Skyrim\",fontsize=15)\n",
    "plt.xlabel('Words')\n",
    "sns.barplot(data=top15,x=top15['count'],y=top15.index,palette='mako',orient='h');"
   ]
  },
  {
   "cell_type": "markdown",
   "id": "98d6c740-076c-4de0-847c-6c02ce58a8cd",
   "metadata": {},
   "source": [
    "###### Here are the top 15 most frequent word pairs in r/metalgearsolid."
   ]
  },
  {
   "cell_type": "code",
   "execution_count": 41,
   "id": "8b14eeba-ae83-4d54-a417-82e9eb6d335e",
   "metadata": {},
   "outputs": [
    {
     "data": {
      "image/png": "[encoded data removed]",
      "text/plain": [
       "<Figure size 720x720 with 1 Axes>"
      ]
     },
     "metadata": {
      "needs_background": "light"
     },
     "output_type": "display_data"
    }
   ],
   "source": [
    "clean_titles2=subreddits['title']\n",
    "cvect=CountVectorizer(stop_words=\"english\",ngram_range=(2,2))\n",
    "clean_titles2=cvect.fit_transform(mgs[\"clean_title\"])\n",
    "\n",
    "title_words2=pd.DataFrame(data=clean_titles2.toarray(), columns=cvect.get_feature_names_out())\n",
    "\n",
    "\n",
    "top15_2=pd.DataFrame(title_words2.sum().sort_values(ascending=False)[:15])\n",
    "\n",
    "top15_2.rename(columns={0:'count'},inplace=True)\n",
    "\n",
    "plt.figure(figsize=(10,10));\n",
    "plt.title(\"Top 15 Word Pairs r/metalgearsolid\",fontsize=15);\n",
    "plt.xlabel('Word Pairs');\n",
    "sns.barplot(data=top15_2,x=top15_2['count'],y=top15_2.index,palette='mako',orient='h');"
   ]
  },
  {
   "cell_type": "markdown",
   "id": "6d18b2ba-282d-4dcd-b588-31876d3a40e9",
   "metadata": {},
   "source": [
    "###### Here are the top 15 most frequent word triplets in r/metalgearsolid."
   ]
  },
  {
   "cell_type": "code",
   "execution_count": 43,
   "id": "3c2de614-d264-404b-9e76-f19d594514b6",
   "metadata": {},
   "outputs": [
    {
     "data": {
      "image/png": "[encoded data removed]",
      "text/plain": [
       "<Figure size 720x720 with 1 Axes>"
      ]
     },
     "metadata": {
      "needs_background": "light"
     },
     "output_type": "display_data"
    }
   ],
   "source": [
    "clean_titles2=subreddits['title']\n",
    "cvect=CountVectorizer(stop_words=\"english\",ngram_range=(3,3))\n",
    "clean_titles2=cvect.fit_transform(mgs[\"clean_title\"])\n",
    "\n",
    "title_words2=pd.DataFrame(data=clean_titles2.toarray(), columns=cvect.get_feature_names_out())\n",
    "\n",
    "\n",
    "top15_2=pd.DataFrame(title_words2.sum().sort_values(ascending=False)[:15])\n",
    "\n",
    "top15_2.rename(columns={0:'count'},inplace=True)\n",
    "\n",
    "plt.figure(figsize=(10,10));\n",
    "plt.title(\"Top 15 Word Triplets r/metalgearsolid\",fontsize=15);\n",
    "plt.xlabel('Word Triplets');\n",
    "sns.barplot(data=top15_2,x=top15_2['count'],y=top15_2.index,palette='mako',orient='h');"
   ]
  },
  {
   "cell_type": "markdown",
   "id": "eaec050d-3c2e-488f-b2e3-dabac55e870f",
   "metadata": {},
   "source": [
    "###### Here are the top 15 most frequent word triplets in r/Skyrim."
   ]
  },
  {
   "cell_type": "code",
   "execution_count": 44,
   "id": "f97152b1-d928-4557-b126-c8a5ce5268c0",
   "metadata": {},
   "outputs": [
    {
     "data": {
      "image/png": "[encoded data removed]",
      "text/plain": [
       "<Figure size 720x720 with 1 Axes>"
      ]
     },
     "metadata": {
      "needs_background": "light"
     },
     "output_type": "display_data"
    }
   ],
   "source": [
    "clean_titles2=subreddits['title']\n",
    "cvect=CountVectorizer(stop_words=\"english\",ngram_range=(3,3))\n",
    "clean_titles2=cvect.fit_transform(skyrim[\"clean_title\"])\n",
    "\n",
    "title_words2=pd.DataFrame(data=clean_titles2.toarray(), columns=cvect.get_feature_names_out())\n",
    "\n",
    "\n",
    "top15_2=pd.DataFrame(title_words2.sum().sort_values(ascending=False)[:15])\n",
    "\n",
    "top15_2.rename(columns={0:'count'},inplace=True)\n",
    "\n",
    "plt.figure(figsize=(10,10));\n",
    "plt.title(\"Top 15 Word Triplets r/Skyrim\",fontsize=15);\n",
    "plt.xlabel('Word Triplets');\n",
    "sns.barplot(data=top15_2,x=top15_2['count'],y=top15_2.index,palette='mako',orient='h');"
   ]
  }
 ],
 "metadata": {
  "kernelspec": {
   "display_name": "Python 3",
   "language": "python",
   "name": "python3"
  },
  "language_info": {
   "codemirror_mode": {
    "name": "ipython",
    "version": 3
   },
   "file_extension": ".py",
   "mimetype": "text/x-python",
   "name": "python",
   "nbconvert_exporter": "python",
   "pygments_lexer": "ipython3",
   "version": "3.8.8"
  }
 },
 "nbformat": 4,
 "nbformat_minor": 5
}
